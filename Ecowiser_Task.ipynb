{
  "nbformat": 4,
  "nbformat_minor": 0,
  "metadata": {
    "colab": {
      "provenance": []
    },
    "kernelspec": {
      "name": "python3",
      "display_name": "Python 3"
    },
    "language_info": {
      "name": "python"
    }
  },
  "cells": [
    {
      "cell_type": "code",
      "source": [
        "pip install selenium"
      ],
      "metadata": {
        "id": "uI8-LsxbzXec"
      },
      "execution_count": null,
      "outputs": []
    },
    {
      "cell_type": "code",
      "execution_count": 3,
      "metadata": {
        "id": "1C1s9Ik3zKnP"
      },
      "outputs": [],
      "source": [
        "import bs4\n",
        "import urllib\n",
        "import pandas as pd\n",
        "import math\n",
        "import time\n",
        "from pandas import DataFrame, Series\n",
        "import matplotlib\n",
        "%matplotlib inline\n",
        "from bs4 import BeautifulSoup\n",
        "from selenium import webdriver\n",
        "import time\n",
        "import pandas as pd\n",
        "from selenium.webdriver.common.keys import Keys\n",
        "from selenium.webdriver.common.by import By\n",
        "import requests\n",
        "from selenium import webdriver\n",
        "from bs4 import BeautifulSoup\n",
        "import time\n",
        "import pandas as pd"
      ]
    },
    {
      "cell_type": "markdown",
      "source": [
        "Sample"
      ],
      "metadata": {
        "id": "i-raz0E9ShuI"
      }
    },
    {
      "cell_type": "code",
      "source": [
        "from selenium import webdriver\n",
        "\n",
        "chrome_options = webdriver.ChromeOptions()\n",
        "chrome_options.binary_location = r\"C:\\Program Files\\Google\\Chrome\\Application\\chrome.exe\"\n",
        "chrome_options.add_argument('--no-sandbox')\n",
        "chrome_options.add_argument('--headless')\n",
        "chrome_options.add_argument('--disable-gpu')\n",
        "chrome_options.add_argument('--diable-dve-shm-uage')\n",
        "\n",
        "driver = webdriver.Chrome(options=chrome_options)"
      ],
      "metadata": {
        "id": "f1BCoYeW0ZCi"
      },
      "execution_count": 34,
      "outputs": []
    },
    {
      "cell_type": "code",
      "source": [
        "url1=\"https://www.linkedin.com/jobs/search/?currentJobId=3682016871&keywords=Senior%20Analyst&origin=JOBS_HOME_KEYWORD_SUGGESTION&refresh=true\"\n",
        "driver.get(url1)\n",
        "driver.implicitly_wait(10)\n",
        "jobs_listing = driver.find_elements(By.XPATH, '//*[@id=\"main-content\"]/section/ul/li')\n",
        "\n",
        "# Find all job elements within the list\n",
        "\n",
        "for listing in jobs_listing:\n",
        "    job_title=listing.find_element(By.CLASS_NAME,'sr-only')\n",
        "    job_t=job_title.text\n",
        "    print(job_t)"
      ],
      "metadata": {
        "colab": {
          "base_uri": "https://localhost:8080/"
        },
        "id": "rrAqKDgJSfn_",
        "outputId": "307c9d78-02ef-47b9-eea2-66c2f5fb864a"
      },
      "execution_count": 32,
      "outputs": [
        {
          "output_type": "stream",
          "name": "stdout",
          "text": [
            "Senior Business Systems Analyst\n",
            "Senior Accountant & Data Analyst\n",
            "Senior Analyst\n",
            "Senior Group Analyst\n",
            "Senior Product Analyst\n",
            "Senior Analyst, Strategic Finance and Analytics, Marketing & Design\n",
            "Senior Group Analyst\n",
            "Senior Analyst Global Vendor Management\n",
            "Marketing Analyst\n",
            "Senior Business Analyst\n",
            "Senior Analyst, FSQA (Proteins)\n",
            "Senior Analyst - Strategy & Insights\n",
            "Senior Compensation Analyst\n",
            "Senior Analyst / Associate\n",
            "Senior Business Analyst\n",
            "Senior Data Analyst - Inside Sales\n",
            "Senior Business Analyst\n",
            "Senior Analyst, Marketing Analytics\n",
            "Senior Procurement Analyst\n",
            "Senior Analyst, Enterprise Strategy\n",
            "Senior Business Operations Analyst\n",
            "Senior Data Analyst - Subscriber Lifecycle Analytics\n",
            "Senior Billing & Data Analyst\n",
            "Senior Analyst - Balance Sheet Solution Sales –– Global Markets, LATAM\n",
            "Senior Acquisition Analyst\n"
          ]
        }
      ]
    },
    {
      "cell_type": "markdown",
      "source": [
        "Sample Scrapping Profiles"
      ],
      "metadata": {
        "id": "ZWpvAkDKTFGx"
      }
    },
    {
      "cell_type": "code",
      "source": [
        "firstname='ram'\n",
        "lastname='sundar'\n",
        "url1=\"https://www.linkedin.com/pub/dir?firstName=\"+firstname+\"&lastName=\"+lastname+\"&trk=public_jobs_people-search-bar_search-submit\"\n",
        "driver.get(url1)\n",
        "driver.implicitly_wait(10)\n",
        "jobs_listing = driver.find_elements(By.XPATH, '//*[@id=\"main-content\"]/section[2]/ul/li')\n",
        "for element in jobs_listing:\n",
        "  job_title=element.find_element(By.CLASS_NAME,'base-search-card__title')\n",
        "  job_t=job_title.text\n",
        "  print(job_t)"
      ],
      "metadata": {
        "id": "f6Jz8hHA__Bm"
      },
      "execution_count": 35,
      "outputs": []
    },
    {
      "cell_type": "markdown",
      "source": [
        "Complete Scrapping Of profile and making it a list"
      ],
      "metadata": {
        "id": "xYyzPQq4TnlT"
      }
    },
    {
      "cell_type": "code",
      "source": [
        "firstname='ram'\n",
        "lastname='sundar'\n",
        "url1=\"https://www.linkedin.com/pub/dir?firstName=\"+firstname+\"&lastName=\"+lastname+\"&trk=public_jobs_people-search-bar_search-submit\"\n",
        "driver.get(url1)\n",
        "driver.implicitly_wait(10)\n",
        "\n",
        "\n",
        "\n",
        "# Find all li elements with class \"pserp-layout__profile-result-list-item\" within the section element\n",
        "list_items = driver.find_elements(By.XPATH, '//*[@id=\"main-content\"]/section/ul/li')\n",
        "\n",
        "\n",
        "# Find all li elements with class \"pserp-layout__profile-result-list-item\" within the section element\n",
        "\n",
        "# Initialize an empty list to store the scraped entities\n",
        "entities = []\n",
        "\n",
        "# Loop through each list item and extract the information\n",
        "for item in list_items:\n",
        "    # Find the username inside h3 tag with class \"base-search-card__title\"\n",
        "    username = item.find_element(By.CSS_SELECTOR, \"h3.base-search-card__title\").text\n",
        "    print(username)\n",
        "    # Find the occupation inside h4 tag with class \"base-search-card__subtitle\"\n",
        "    occupation = item.find_element(By.CSS_SELECTOR, \"h4.base-search-card__subtitle\").text\n",
        "\n",
        "    # Find the location inside p tag with class \"people-search-card__location\" within the div tag with class \"base-search-card__metadata\"\n",
        "    location = item.find_element(By.CSS_SELECTOR, \"div.base-search-card__metadata p.people-search-card__location\").text\n",
        "\n",
        "    # Append the extracted information to the entities list\n",
        "    entities.append({\n",
        "        \"username\": username,\n",
        "        \"occupation\": occupation,\n",
        "        \"location\": location\n",
        "    })\n",
        "\n",
        "# Print the scraped entities\n",
        "for entity in entities:\n",
        "    print(\"Username:\", entity[\"username\"])\n",
        "    print(\"Occupation:\", entity[\"occupation\"])\n",
        "    print(\"Location:\", entity[\"location\"])\n",
        "    print()\n"
      ],
      "metadata": {
        "id": "AkxiqB7VD9Nb"
      },
      "execution_count": 36,
      "outputs": []
    }
  ]
}